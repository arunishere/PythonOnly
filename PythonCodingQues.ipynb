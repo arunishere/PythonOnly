{
  "nbformat": 4,
  "nbformat_minor": 0,
  "metadata": {
    "colab": {
      "provenance": []
    },
    "kernelspec": {
      "name": "python3",
      "display_name": "Python 3"
    },
    "language_info": {
      "name": "python"
    }
  },
  "cells": [
    {
      "cell_type": "markdown",
      "source": [
        "Write a short Python function, is_multiple(n,m), that takes two integer values and returns True if n is a multiple of m, that  n = mi for some integer i and False otherwise"
      ],
      "metadata": {
        "id": "MoEuICRzGL-a"
      }
    },
    {
      "cell_type": "code",
      "execution_count": null,
      "metadata": {
        "id": "1d138b8uGIcv"
      },
      "outputs": [],
      "source": [
        "def is_multiple(n, m):\n",
        "    \"\"\"\n",
        "    Check if n is a multiple of m.\n",
        "\n",
        "    Args:\n",
        "        n (int): The number to be checked.\n",
        "        m (int): The potential divisor.\n",
        "\n",
        "    Returns:\n",
        "        bool: True if n is a multiple of m, False otherwise.\n",
        "    \"\"\"\n",
        "    return n % m == 0\n"
      ]
    },
    {
      "cell_type": "markdown",
      "source": [
        "\n",
        "Write a short Python function, is_even(k), that takes an integer value and returns True if k is even, and False otherwise. However, your function cannot use the multiplication, modulo or division operator\n"
      ],
      "metadata": {
        "id": "6ZTZ_pZ9GRBN"
      }
    },
    {
      "cell_type": "code",
      "source": [
        "def is_even(k):\n",
        "    \"\"\"\n",
        "    Check if k is even without using multiplication, modulo, or division operators.\n",
        "\n",
        "    Args:\n",
        "        k (int): The number to be checked.\n",
        "\n",
        "    Returns:\n",
        "        bool: True if k is even, False otherwise.\n",
        "    \"\"\"\n",
        "    return (k & 1) == 0\n"
      ],
      "metadata": {
        "id": "GHCUL7IdGSta"
      },
      "execution_count": null,
      "outputs": []
    },
    {
      "cell_type": "markdown",
      "source": [
        "Write a short Python function, minmax(data), that takes a sequence of three or more numbers, and returns the smallest and largest numbers, in the form of a tuple of length two. Do not use the built-in functions min or max in implementing the solution"
      ],
      "metadata": {
        "id": "oj5ImzUsGU0W"
      }
    },
    {
      "cell_type": "code",
      "source": [
        "def minmax(data):\n",
        "    \"\"\"\n",
        "    Find the smallest and largest numbers in a sequence.\n",
        "\n",
        "    Args:\n",
        "        data (list or tuple): A sequence of three or more numbers.\n",
        "\n",
        "    Returns:\n",
        "        tuple: A tuple containing the smallest and largest numbers.\n",
        "    \"\"\"\n",
        "    min_num = data[0]\n",
        "    max_num = data[0]\n",
        "\n",
        "    for num in data[1:]:\n",
        "        if num < min_num:\n",
        "            min_num = num\n",
        "        elif num > max_num:\n",
        "            max_num = num\n",
        "\n",
        "    return min_num, max_num\n"
      ],
      "metadata": {
        "id": "LzukgqFdGW7R"
      },
      "execution_count": null,
      "outputs": []
    },
    {
      "cell_type": "markdown",
      "source": [
        "Write a short Python function that takes a positive integer n and returns the sum of the squares of all the even positive integers smaller than n."
      ],
      "metadata": {
        "id": "xFH3izDjGY48"
      }
    },
    {
      "cell_type": "code",
      "source": [
        "def sum_of_even_squares(n):\n",
        "    \"\"\"\n",
        "    Calculate the sum of squares of even positive integers smaller than n.\n",
        "\n",
        "    Args:\n",
        "        n (int): A positive integer.\n",
        "\n",
        "    Returns:\n",
        "        int: The sum of squares of even positive integers smaller than n.\n",
        "    \"\"\"\n",
        "    total = 0\n",
        "    for i in range(2, n, 2):  # Start from 2 and increment by 2 to consider only even numbers\n",
        "        total += i ** 2\n",
        "    return total\n"
      ],
      "metadata": {
        "id": "zDwdYSn7GbVI"
      },
      "execution_count": null,
      "outputs": []
    },
    {
      "cell_type": "markdown",
      "source": [
        "What parameters should be sent to the range constructor, to produce a range with the values 8,6,4,2,0,-2,-4,-6,-8 ?"
      ],
      "metadata": {
        "id": "b7mQZcUMGkFI"
      }
    },
    {
      "cell_type": "code",
      "source": [
        "print([x for x in range(-8,10,2)])"
      ],
      "metadata": {
        "id": "1JpfvCEJGljB"
      },
      "execution_count": null,
      "outputs": []
    },
    {
      "cell_type": "markdown",
      "source": [
        "Write a List comprehension to produce the list [1, 2, 4, 8, 16, 32, 64, 128, 256]"
      ],
      "metadata": {
        "id": "zYvD1RDvGnL6"
      }
    },
    {
      "cell_type": "code",
      "source": [
        "print([2**i for i in range(0,9)])"
      ],
      "metadata": {
        "id": "EOB0jj4jGqsV"
      },
      "execution_count": null,
      "outputs": []
    },
    {
      "cell_type": "markdown",
      "source": [
        "Program an implementation of a function named norm(v,p) returns the p-norm value of the v and norm(v) returns the euclidean norm of v. You may assume that v is a list of numbers"
      ],
      "metadata": {
        "id": "bS66pl_8GzR4"
      }
    },
    {
      "cell_type": "code",
      "source": [
        "import math\n",
        "\n",
        "def norm(v, p=None):\n",
        "    \"\"\"\n",
        "    Calculate the p-norm or Euclidean norm of a vector.\n",
        "\n",
        "    Args:\n",
        "        v (list): A list of numbers representing the vector.\n",
        "        p (float or None): The value of p for the p-norm calculation.\n",
        "            If p is None, the function calculates the Euclidean norm.\n",
        "\n",
        "    Returns:\n",
        "        float: The p-norm value of the vector if p is given,\n",
        "               otherwise, the Euclidean norm of the vector.\n",
        "    \"\"\"\n",
        "    if p is None:\n",
        "        # Calculate Euclidean norm (p = 2)\n",
        "        return math.sqrt(sum(x**2 for x in v))\n",
        "    elif p == 0:\n",
        "        # Handle special case when p is 0\n",
        "        return max(abs(x) for x in v)\n",
        "    else:\n",
        "        # Calculate p-norm\n",
        "        return math.pow(sum(math.pow(abs(x), p) for x in v), 1/p)\n",
        "\n",
        "# Example usage:\n",
        "v = [3, 4]  # Example vector\n",
        "p_norm = norm(v, 3)  # Calculate the 3-norm of v\n",
        "euclidean_norm = norm(v)  # Calculate the Euclidean norm of v\n",
        "print(\"3-Norm of v:\", p_norm)\n",
        "print(\"Euclidean Norm of v:\", euclidean_norm)\n"
      ],
      "metadata": {
        "id": "oSqjx4VlG1IS"
      },
      "execution_count": null,
      "outputs": []
    },
    {
      "cell_type": "markdown",
      "source": [
        "Write a short Python function that takes a string s, representing a sentence and returns a copy of the string with all the punctuation removed. Eg: Let’s try, mike would return “Lets try Mike”"
      ],
      "metadata": {
        "id": "a-6IEOOxG5BI"
      }
    },
    {
      "cell_type": "code",
      "source": [
        "def remove_punctuation(s):\n",
        "    \"\"\"\n",
        "    Remove all punctuation marks from the given string.\n",
        "\n",
        "    Args:\n",
        "        s (str): The input string.\n",
        "\n",
        "    Returns:\n",
        "        str: The string with all punctuation marks removed.\n",
        "    \"\"\"\n",
        "    punctuations = '''!()-[]{};:'\"\\,<>./?@#$%^&*_~'''\n",
        "    # Create a new string without punctuation marks\n",
        "    s_without_punctuation = ''.join(char for char in s if char not in punctuations)\n",
        "    return s_without_punctuation\n",
        "\n",
        "# Example usage:\n",
        "sentence = \"Let's try, Mike!\"\n",
        "result = remove_punctuation(sentence)\n",
        "print(result)  # Output: \"Lets try Mike\"\n"
      ],
      "metadata": {
        "id": "QJLHwFaiG7oZ"
      },
      "execution_count": null,
      "outputs": []
    },
    {
      "cell_type": "markdown",
      "source": [
        "\n",
        "Write a short Python program that takes two arrays a and b of length n storing int values, and returns the dot product of a and b. That is returns an array c of length n such that c[i] = a[i].b[i] for  i = 0, .. n-1"
      ],
      "metadata": {
        "id": "OqdWFIKRG-1T"
      }
    },
    {
      "cell_type": "code",
      "source": [
        "import math\n",
        "\n",
        "def dotProduct(a,b, angle):\n",
        "    if len(a) != len(b):\n",
        "        raise ValueError(\"Both of the vectors must be of same size\")\n",
        "    else:\n",
        "        return norm(a) * norm(b) * math.cos(angle)\n",
        "\n",
        "def norm(v):\n",
        "    if type(v) != list:\n",
        "        raise TypeError(\"Enter a valid type, List or Tuple\")\n",
        "    else:\n",
        "        return sum((x**2 for x in v))\n",
        "\n",
        "\n",
        "print(dotProduct([2,2], [1,2], 90))\n",
        "\n",
        "\n",
        "def dotProduct(a, b):\n",
        "\n",
        "    if len(a) != len(b):\n",
        "        raise ValueError(\"Both of the vectors must be of same size\")\n",
        "\n",
        "    return [a[i]* b[i] for i in range(len(a))]\n"
      ],
      "metadata": {
        "id": "P9PlXwUdHA_v"
      },
      "execution_count": null,
      "outputs": []
    },
    {
      "cell_type": "markdown",
      "source": [
        "Demonstrate how to use Python’s list comprehension syntax to produce the list [a,b,c . . . z ], but without having to type all the 26 characters literally."
      ],
      "metadata": {
        "id": "b153GnsZHFvy"
      }
    },
    {
      "cell_type": "code",
      "source": [
        "import string\n",
        "\n",
        "# Generate the alphabet characters\n",
        "alphabet = string.ascii_lowercase\n",
        "\n",
        "# Create the list using list comprehension\n",
        "alphabet_list = [char for char in alphabet]\n",
        "\n",
        "print(alphabet_list)\n"
      ],
      "metadata": {
        "id": "Vnxo-xXrHH32"
      },
      "execution_count": null,
      "outputs": []
    },
    {
      "cell_type": "markdown",
      "source": [
        "Write a Python Function that takes a sequence of numbers and returns the count of unique numbers"
      ],
      "metadata": {
        "id": "BBSQznaeHJbu"
      }
    },
    {
      "cell_type": "code",
      "source": [
        "def nunique(n):\n",
        "    return len(set(n))\n",
        "\n",
        "# Or\n",
        "\n",
        "def nunique(n):\n",
        "    unique = []\n",
        "    count = 0\n",
        "    for i in n:\n",
        "        if i not in unique:\n",
        "            unique.append(i)\n",
        "            count += 1\n",
        "    return count\n",
        "\n",
        "print(nunique([2,3,4,4,3,3,3,3,2]))\n"
      ],
      "metadata": {
        "id": "Ufhi-Gr1HLXq"
      },
      "execution_count": null,
      "outputs": []
    },
    {
      "cell_type": "markdown",
      "source": [
        "Write a Short Python Function that takes a sequence of integer values and determines if there is a distinct pair of consecutive numbers in the sequence whose product is even.\n"
      ],
      "metadata": {
        "id": "wJ4Nx-JUHOIL"
      }
    },
    {
      "cell_type": "code",
      "source": [
        "def evenProd(a):\n",
        "\n",
        "    for i in range(len(a)-1):\n",
        "        if a[i]* a[i+1] % 2 == 0:\n",
        "            return True\n",
        "\n",
        "    return False\n"
      ],
      "metadata": {
        "id": "WhhZjQYRHPyI"
      },
      "execution_count": null,
      "outputs": []
    },
    {
      "cell_type": "markdown",
      "source": [
        "Counting the occurrences of elements in the list"
      ],
      "metadata": {
        "id": "LjsSFClTHURd"
      }
    },
    {
      "cell_type": "code",
      "source": [
        "days = ['S','M','M','M','F','S']\n",
        "y = set(days)\n",
        "\n",
        "print([[x,days.count(x)] for x in y])\n",
        "\n",
        "> [['M', 3], ['S', 2], ['F', 1]]\n"
      ],
      "metadata": {
        "id": "eARXHyWCHUz8"
      },
      "execution_count": null,
      "outputs": []
    }
  ]
}